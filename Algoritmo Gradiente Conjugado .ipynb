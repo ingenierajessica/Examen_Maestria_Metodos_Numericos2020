{
 "cells": [
  {
   "cell_type": "code",
   "execution_count": 2,
   "metadata": {},
   "outputs": [],
   "source": [
    "import numpy as np"
   ]
  },
  {
   "cell_type": "markdown",
   "metadata": {},
   "source": [
    "# Algoritmo de Gradiente Conjugado"
   ]
  },
  {
   "cell_type": "markdown",
   "metadata": {},
   "source": [
    "<h2>Contenido</h2>\n",
    "\n",
    "- [Implementación](#Implementación) \n",
    "- [Referencías](#Referencias)"
   ]
  },
  {
   "cell_type": "markdown",
   "metadata": {},
   "source": [
    "<h2>Implementación</h2>\n"
   ]
  },
  {
   "cell_type": "code",
   "execution_count": 4,
   "metadata": {},
   "outputs": [],
   "source": [
    "def gradianteConjugado(A, b, x):\n",
    "    \"\"\"\n",
    "    A function to solve [A]{x} = {b} linear equation system with the \n",
    "    conjugate gradient method.\n",
    "    ========== Parameters ==========\n",
    "    A : matrix \n",
    "        A real symmetric positive definite matrix.\n",
    "    b : vector\n",
    "        The right hand side (RHS) vector of the system.\n",
    "    x : vector\n",
    "        The starting guess for the solution.\n",
    "    \"\"\"  \n",
    "    r = b - np.dot(A, x)\n",
    "    p = r\n",
    "    rsold = np.dot(np.transpose(r), r)\n",
    "    \n",
    "    for i in range(len(b)):\n",
    "        Ap = np.dot(A, p)\n",
    "        alpha = rsold / np.dot(np.transpose(p), Ap)\n",
    "        x = x + np.dot(alpha, p)\n",
    "        r = r - np.dot(alpha, Ap)\n",
    "        rsnew = np.dot(np.transpose(r), r)\n",
    "        if np.sqrt(rsnew) < 1e-8:\n",
    "            break\n",
    "        p = r + (rsnew/rsold)*p\n",
    "        rsold = rsnew\n",
    "    return x"
   ]
  },
  {
   "cell_type": "markdown",
   "metadata": {},
   "source": [
    "<h2>Referencias</h2>\n"
   ]
  },
  {
   "cell_type": "markdown",
   "metadata": {},
   "source": [
    "https://gist.github.com/glederrey/7fe6e03bbc85c81ed60f3585eea2e073"
   ]
  }
 ],
 "metadata": {
  "kernelspec": {
   "display_name": "Python 3",
   "language": "python",
   "name": "python3"
  },
  "language_info": {
   "codemirror_mode": {
    "name": "ipython",
    "version": 3
   },
   "file_extension": ".py",
   "mimetype": "text/x-python",
   "name": "python",
   "nbconvert_exporter": "python",
   "pygments_lexer": "ipython3",
   "version": "3.6.5"
  }
 },
 "nbformat": 4,
 "nbformat_minor": 2
}
